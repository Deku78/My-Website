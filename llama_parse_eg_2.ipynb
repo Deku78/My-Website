{
  "nbformat": 4,
  "nbformat_minor": 0,
  "metadata": {
    "colab": {
      "provenance": [],
      "authorship_tag": "ABX9TyNM1k5ro/M4eiifwCEAbK2X",
      "include_colab_link": true
    },
    "kernelspec": {
      "name": "python3",
      "display_name": "Python 3"
    },
    "language_info": {
      "name": "python"
    }
  },
  "cells": [
    {
      "cell_type": "markdown",
      "metadata": {
        "id": "view-in-github",
        "colab_type": "text"
      },
      "source": [
        "<a href=\"https://colab.research.google.com/github/Deku78/My-Website/blob/main/llama_parse_eg_2.ipynb\" target=\"_parent\"><img src=\"https://colab.research.google.com/assets/colab-badge.svg\" alt=\"Open In Colab\"/></a>"
      ]
    },
    {
      "cell_type": "code",
      "execution_count": null,
      "metadata": {
        "id": "WeENFxrMVSjQ"
      },
      "outputs": [],
      "source": [
        "%pip install llama-parse tabula-py pandas"
      ]
    },
    {
      "cell_type": "code",
      "source": [
        "%pip install nest_asyncio\n"
      ],
      "metadata": {
        "colab": {
          "base_uri": "https://localhost:8080/"
        },
        "id": "XR2BWsG6VTNA",
        "outputId": "3eea3431-de42-4638-f741-8268ba33397c"
      },
      "execution_count": null,
      "outputs": [
        {
          "output_type": "stream",
          "name": "stdout",
          "text": [
            "Requirement already satisfied: nest_asyncio in /usr/local/lib/python3.10/dist-packages (1.6.0)\n"
          ]
        }
      ]
    },
    {
      "cell_type": "code",
      "source": [
        "import os\n",
        "import nest_asyncio\n",
        "from llama_parse import LlamaParse\n",
        "import tabula\n",
        "import pandas as pd\n",
        "import io\n",
        "\n",
        "# Apply nest_asyncio to avoid the event loop conflict\n",
        "nest_asyncio.apply()\n",
        "\n",
        "# Set the environment variable for API key\n",
        "os.environ[\"LLAMA_CLOUD_API_KEY\"] = \"llx-elu4ezXSHAfXr3cYXUk1Dua72ZyBCk3WCR4Xs7UkSBEqwlIH\"\n",
        "\n",
        "def extract_tables_from_pdf_llama(pdf_file_path):\n",
        "    # Define the parsing instruction for table extraction\n",
        "    parsing_instruction = \"\"\"\n",
        "    You are an expert NLP Table Extractor. Your task is to extract ALL tables from the given PDF and present them in Markdown format. Follow these guidelines:\n",
        "\n",
        "    1. Identify and extract every table in the document, regardless of its structure or complexity.\n",
        "    2. Convert each table to Markdown format, preserving its original structure as closely as possible.\n",
        "    3. Do not use any specific Markdown table syntax. Instead, use spacing and alignment to represent the table structure.\n",
        "    4. Handle tables that span multiple pages by combining them into a single coherent table.\n",
        "    5. Accurately represent any merged cells, headers, or complex layouts in your Markdown representation.\n",
        "    6. Include column headers if present.\n",
        "    7. Separate multiple tables with a horizontal line (---) and a newline.\n",
        "    8. Do not add any explanations or additional text. Only output the table content in Markdown format.\n",
        "\n",
        "    Extract and present ALL tables found in the document, maintaining their original structure and content as accurately as possible in Markdown format.\n",
        "    \"\"\"\n",
        "\n",
        "    # Load the PDF and apply the table-specific instructions\n",
        "    llama_parser = LlamaParse(\n",
        "        result_type=\"markdown\",\n",
        "        parsing_instruction=parsing_instruction\n",
        "    )\n",
        "\n",
        "    try:\n",
        "        document = llama_parser.load_data(pdf_file_path)\n",
        "        if document and len(document) > 0:\n",
        "            return document[0].text\n",
        "        else:\n",
        "            print(\"No tables extracted from the PDF using LlamaParse.\")\n",
        "            return \"\"\n",
        "    except Exception as e:\n",
        "        print(f\"Error extracting tables with LlamaParse: {str(e)}\")\n",
        "        return \"\"\n",
        "\n",
        "def extract_tables_from_pdf_tabula(pdf_file_path):\n",
        "    try:\n",
        "        # Extract tables using Tabula\n",
        "        tables = tabula.read_pdf(pdf_file_path, pages='all', multiple_tables=True)\n",
        "\n",
        "        if not tables:\n",
        "            print(\"No tables extracted from the PDF using Tabula.\")\n",
        "            return \"\"\n",
        "\n",
        "        # Convert tables to Markdown format\n",
        "        markdown_tables = []\n",
        "        for table in tables:\n",
        "            output = io.StringIO()\n",
        "            table.to_markdown(output, index=False)\n",
        "            markdown_tables.append(output.getvalue())\n",
        "\n",
        "        # Join tables with separators\n",
        "        return \"\\n\\n---\\n\\n\".join(markdown_tables)\n",
        "    except Exception as e:\n",
        "        print(f\"Error extracting tables with Tabula: {str(e)}\")\n",
        "        return \"\"\n",
        "\n",
        "def combine_extraction_results(llama_result, tabula_result):\n",
        "    combined_result = \"\"\n",
        "\n",
        "    if llama_result:\n",
        "        combined_result += \"LlamaParse Extraction:\\n\\n\" + llama_result + \"\\n\\n\"\n",
        "\n",
        "    if tabula_result:\n",
        "        combined_result += \"Tabula Extraction:\\n\\n\" + tabula_result\n",
        "\n",
        "    return combined_result\n",
        "\n",
        "def process_pdfs(pdf_file_paths):\n",
        "    for pdf_file_path in pdf_file_paths:\n",
        "        print(f\"\\nProcessing PDF: {pdf_file_path}\")\n",
        "\n",
        "        llama_tables = extract_tables_from_pdf_llama(pdf_file_path)\n",
        "        tabula_tables = extract_tables_from_pdf_tabula(pdf_file_path)\n",
        "\n",
        "        combined_results = combine_extraction_results(llama_tables, tabula_tables)\n",
        "\n",
        "        print(\"Extracted Tables:\")\n",
        "        print(combined_results)\n",
        "\n",
        "# List of PDF file paths to process\n",
        "pdf_file_paths = [\n",
        "    \"/content/sample_data/Sample1.1_Change Order.pdf\",\n",
        "]\n",
        "\n",
        "process_pdfs(pdf_file_paths)\n",
        "\n",
        "\n"
      ],
      "metadata": {
        "colab": {
          "base_uri": "https://localhost:8080/"
        },
        "id": "cR9m59JoVTtp",
        "outputId": "31cc1882-f7c6-4ee6-be14-c7eacd176129"
      },
      "execution_count": 2,
      "outputs": [
        {
          "output_type": "stream",
          "name": "stdout",
          "text": [
            "\n",
            "Processing PDF: /content/sample_data/Sample1.1_Change Order.pdf\n",
            "Started parsing the file under job_id 9875b5ca-a6b3-475e-9aab-5b10fb489bbb\n"
          ]
        },
        {
          "output_type": "stream",
          "name": "stderr",
          "text": [
            "WARNING:tabula.backend:Failed to import jpype dependencies. Fallback to subprocess.\n",
            "WARNING:tabula.backend:No module named 'jpype'\n"
          ]
        },
        {
          "output_type": "stream",
          "name": "stdout",
          "text": [
            "Extracted Tables:\n",
            "LlamaParse Extraction:\n",
            "\n",
            "```\n",
            "CHANGE ORDER\n",
            "\n",
            "Project Name:                            ABC Services                                      Project Manager:\n",
            "Customer Name:                           ACME LLC                                  John Parman\n",
            "john.parman@gmail.com\n",
            "CDW Affiliate:                           Global Tech, LLC\n",
            "Effective Date:                          August 12, 2021                                   Requesting Party:\n",
            "Change ID:                               ABC-12458-004                                        John Parman\n",
            "\n",
            "\n",
            "Tabula Extraction:\n",
            "\n",
            "| Project Name:   | Unnamed: 0      | BC Services    | Unnamed: 1            | Project Manager:     |\n",
            "|:----------------|:----------------|:---------------|:----------------------|:---------------------|\n",
            "| Customer Name:  | ACME LLC        | CME LLC        | John Parman           | John Parma           |\n",
            "|                 |                 |                | john.parman@gmail.com |                      |\n",
            "| nan             | nan             | nan            | nan                   | john.parman@gmail.co |\n",
            "| CDW Affiliate:  | nan             | lobal Tech, LL | nan                   | nan                  |\n",
            "| Effective Date: | August 12, 2021 | ugust 12, 2021 | Requesting Party:     | nan                  |\n",
            "| Change ID:      | ABC-12458-004   | John Parman    | nan                   | nan                  |\n",
            "\n",
            "---\n",
            "\n",
            "| ACME LLC   | CME LLC   |\n",
            "|------------|-----------|\n",
            "\n",
            "---\n",
            "\n",
            "| John Parman             |   John Parma |\n",
            "| john.parman@gmail.com   |              |\n",
            "|:------------------------|-------------:|\n",
            "| john.parman@gmail.co    |          nan |\n",
            "\n",
            "---\n",
            "\n",
            "| August 12, 2021   | ugust 12, 2021   |\n",
            "|-------------------|------------------|\n",
            "\n",
            "---\n",
            "\n",
            "| Deployment Type   | Location   | Host   | Address               |\n",
            "|:------------------|:-----------|:-------|:----------------------|\n",
            "| Deployment Type1  | Florida    | N/A    | 408 Parkland Drive,   |\n",
            "|                   |            |        | Suite 228, Sarasota,  |\n",
            "|                   |            |        | Florida 34243, United |\n",
            "|                   |            |        | States of America     |\n",
            "| Deployment Type1  | MA         | N/A    | One Park West,        |\n",
            "|                   |            |        | Tewksbury, MA 01876   |\n"
          ]
        }
      ]
    }
  ]
}